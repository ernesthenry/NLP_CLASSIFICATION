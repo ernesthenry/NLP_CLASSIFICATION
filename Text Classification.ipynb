{
 "cells": [
  {
   "cell_type": "code",
   "execution_count": 94,
   "id": "0f242717-65d1-4409-a7a9-88efe9260cd1",
   "metadata": {},
   "outputs": [
    {
     "name": "stderr",
     "output_type": "stream",
     "text": [
      "[nltk_data] Downloading package stopwords to\n",
      "[nltk_data]     /Users/adamgrant/nltk_data...\n",
      "[nltk_data]   Package stopwords is already up-to-date!\n",
      "[nltk_data] Downloading package punkt to /Users/adamgrant/nltk_data...\n",
      "[nltk_data]   Package punkt is already up-to-date!\n"
     ]
    }
   ],
   "source": [
    "import warnings\n",
    "warnings.simplefilter(action='ignore', category=FutureWarning)\n",
    "\n",
    "# Regular Imports\n",
    "import numpy as np\n",
    "import pandas as pd\n",
    "import matplotlib.pyplot as plt\n",
    "import seaborn as sns\n",
    "\n",
    "# NLP Imports\n",
    "import string, re, nltk, spacy\n",
    "from nltk.corpus import stopwords\n",
    "from nltk.tokenize import word_tokenize\n",
    "nltk.download('stopwords')\n",
    "nltk.download('punkt')\n",
    "from sklearn.feature_extraction.text import TfidfVectorizer,CountVectorizer\n",
    "\n",
    "# Modelling and Scoring Imports\n",
    "from sklearn.model_selection import train_test_split\n",
    "from sklearn import metrics\n",
    "from sklearn.model_selection import cross_val_score\n",
    "from sklearn.model_selection import GridSearchCV\n",
    "\n",
    "# ML Models\n",
    "from sklearn.linear_model import LogisticRegression\n",
    "from sklearn.neighbors import KNeighborsClassifier\n",
    "from sklearn.tree import DecisionTreeClassifier\n",
    "from sklearn import svm\n",
    "from sklearn.ensemble import RandomForestClassifier\n",
    "from sklearn.linear_model import SGDClassifier\n",
    "from sklearn.linear_model import RidgeClassifier\n",
    "import xgboost as xgb"
   ]
  },
  {
   "cell_type": "markdown",
   "id": "f100f775-1354-4501-b7dc-e9eee732c791",
   "metadata": {
    "tags": []
   },
   "source": [
    "Data from https://www.kaggle.com/datasets/saurabhshahane/ecommerce-text-classificationtd-idf \n",
    "<br> Influenced by: https://medium.com/@cmukesh8688/tf-idf-vectorizer-scikit-learn-dbc0244a911a"
   ]
  },
  {
   "cell_type": "code",
   "execution_count": 95,
   "id": "0fd0d924-1702-43df-9dd6-c6febaf1c2b4",
   "metadata": {},
   "outputs": [],
   "source": [
    "df = pd.read_csv('ecommerceDataset.csv')"
   ]
  },
  {
   "cell_type": "markdown",
   "id": "9df2b4c1-6924-4f6f-8087-b381bf602103",
   "metadata": {},
   "source": [
    "## Data Exploration "
   ]
  },
  {
   "cell_type": "code",
   "execution_count": 96,
   "id": "6bf3b982-9bb6-442b-a2d5-b9c6f3f3c1cf",
   "metadata": {},
   "outputs": [
    {
     "data": {
      "text/html": [
       "<div>\n",
       "<style scoped>\n",
       "    .dataframe tbody tr th:only-of-type {\n",
       "        vertical-align: middle;\n",
       "    }\n",
       "\n",
       "    .dataframe tbody tr th {\n",
       "        vertical-align: top;\n",
       "    }\n",
       "\n",
       "    .dataframe thead th {\n",
       "        text-align: right;\n",
       "    }\n",
       "</style>\n",
       "<table border=\"1\" class=\"dataframe\">\n",
       "  <thead>\n",
       "    <tr style=\"text-align: right;\">\n",
       "      <th></th>\n",
       "      <th>Category</th>\n",
       "      <th>Description</th>\n",
       "    </tr>\n",
       "  </thead>\n",
       "  <tbody>\n",
       "    <tr>\n",
       "      <th>0</th>\n",
       "      <td>Household</td>\n",
       "      <td>Paper Plane Design Framed Wall Hanging Motivat...</td>\n",
       "    </tr>\n",
       "    <tr>\n",
       "      <th>1</th>\n",
       "      <td>Household</td>\n",
       "      <td>SAF 'Floral' Framed Painting (Wood, 30 inch x ...</td>\n",
       "    </tr>\n",
       "    <tr>\n",
       "      <th>2</th>\n",
       "      <td>Household</td>\n",
       "      <td>SAF 'UV Textured Modern Art Print Framed' Pain...</td>\n",
       "    </tr>\n",
       "    <tr>\n",
       "      <th>3</th>\n",
       "      <td>Household</td>\n",
       "      <td>SAF Flower Print Framed Painting (Synthetic, 1...</td>\n",
       "    </tr>\n",
       "    <tr>\n",
       "      <th>4</th>\n",
       "      <td>Household</td>\n",
       "      <td>Incredible Gifts India Wooden Happy Birthday U...</td>\n",
       "    </tr>\n",
       "  </tbody>\n",
       "</table>\n",
       "</div>"
      ],
      "text/plain": [
       "    Category                                        Description\n",
       "0  Household  Paper Plane Design Framed Wall Hanging Motivat...\n",
       "1  Household  SAF 'Floral' Framed Painting (Wood, 30 inch x ...\n",
       "2  Household  SAF 'UV Textured Modern Art Print Framed' Pain...\n",
       "3  Household  SAF Flower Print Framed Painting (Synthetic, 1...\n",
       "4  Household  Incredible Gifts India Wooden Happy Birthday U..."
      ]
     },
     "execution_count": 96,
     "metadata": {},
     "output_type": "execute_result"
    }
   ],
   "source": [
    "df.head()"
   ]
  },
  {
   "cell_type": "code",
   "execution_count": 97,
   "id": "5d3ef62e-b224-4f82-b93e-12e7f02fd472",
   "metadata": {},
   "outputs": [
    {
     "data": {
      "text/html": [
       "<div>\n",
       "<style scoped>\n",
       "    .dataframe tbody tr th:only-of-type {\n",
       "        vertical-align: middle;\n",
       "    }\n",
       "\n",
       "    .dataframe tbody tr th {\n",
       "        vertical-align: top;\n",
       "    }\n",
       "\n",
       "    .dataframe thead th {\n",
       "        text-align: right;\n",
       "    }\n",
       "</style>\n",
       "<table border=\"1\" class=\"dataframe\">\n",
       "  <thead>\n",
       "    <tr style=\"text-align: right;\">\n",
       "      <th></th>\n",
       "      <th>Category</th>\n",
       "      <th>Description</th>\n",
       "    </tr>\n",
       "  </thead>\n",
       "  <tbody>\n",
       "    <tr>\n",
       "      <th>count</th>\n",
       "      <td>50425</td>\n",
       "      <td>50424</td>\n",
       "    </tr>\n",
       "    <tr>\n",
       "      <th>unique</th>\n",
       "      <td>4</td>\n",
       "      <td>27802</td>\n",
       "    </tr>\n",
       "    <tr>\n",
       "      <th>top</th>\n",
       "      <td>Household</td>\n",
       "      <td>Think &amp; Grow Rich About the Author NAPOLEON HI...</td>\n",
       "    </tr>\n",
       "    <tr>\n",
       "      <th>freq</th>\n",
       "      <td>19313</td>\n",
       "      <td>30</td>\n",
       "    </tr>\n",
       "  </tbody>\n",
       "</table>\n",
       "</div>"
      ],
      "text/plain": [
       "         Category                                        Description\n",
       "count       50425                                              50424\n",
       "unique          4                                              27802\n",
       "top     Household  Think & Grow Rich About the Author NAPOLEON HI...\n",
       "freq        19313                                                 30"
      ]
     },
     "execution_count": 97,
     "metadata": {},
     "output_type": "execute_result"
    }
   ],
   "source": [
    "df.describe()"
   ]
  },
  {
   "cell_type": "code",
   "execution_count": 98,
   "id": "99708e38-78a7-4f1a-a2f9-09f5d196883c",
   "metadata": {},
   "outputs": [
    {
     "data": {
      "text/plain": [
       "Household                 19313\n",
       "Books                     11820\n",
       "Electronics               10621\n",
       "Clothing & Accessories     8671\n",
       "Name: Category, dtype: int64"
      ]
     },
     "execution_count": 98,
     "metadata": {},
     "output_type": "execute_result"
    }
   ],
   "source": [
    "df['Category'].value_counts()"
   ]
  },
  {
   "cell_type": "code",
   "execution_count": 99,
   "id": "48b049f0-43e0-4e43-bfd2-a4f652a98264",
   "metadata": {},
   "outputs": [
    {
     "data": {
      "text/plain": [
       "Category       0\n",
       "Description    1\n",
       "dtype: int64"
      ]
     },
     "execution_count": 99,
     "metadata": {},
     "output_type": "execute_result"
    }
   ],
   "source": [
    "# Look for nulls\n",
    "df.isnull().sum()"
   ]
  },
  {
   "cell_type": "markdown",
   "id": "2f66a9d5-085e-43c3-9fa3-5ea93ff98064",
   "metadata": {},
   "source": [
    "## Data Cleaning"
   ]
  },
  {
   "cell_type": "code",
   "execution_count": 100,
   "id": "dd926f82-8ff9-430d-b1ff-766545ef4335",
   "metadata": {},
   "outputs": [],
   "source": [
    "df.dropna(axis=0, inplace=True)"
   ]
  },
  {
   "cell_type": "code",
   "execution_count": 101,
   "id": "8c796c7a-29e4-41f9-84a9-dbdf3bcb1c06",
   "metadata": {},
   "outputs": [],
   "source": [
    "df.drop_duplicates(inplace=True)"
   ]
  },
  {
   "cell_type": "code",
   "execution_count": 102,
   "id": "22ec70e8-737c-46b2-9e6f-6975a4541eee",
   "metadata": {},
   "outputs": [
    {
     "data": {
      "text/html": [
       "<div>\n",
       "<style scoped>\n",
       "    .dataframe tbody tr th:only-of-type {\n",
       "        vertical-align: middle;\n",
       "    }\n",
       "\n",
       "    .dataframe tbody tr th {\n",
       "        vertical-align: top;\n",
       "    }\n",
       "\n",
       "    .dataframe thead th {\n",
       "        text-align: right;\n",
       "    }\n",
       "</style>\n",
       "<table border=\"1\" class=\"dataframe\">\n",
       "  <thead>\n",
       "    <tr style=\"text-align: right;\">\n",
       "      <th></th>\n",
       "      <th>Category</th>\n",
       "      <th>Description</th>\n",
       "    </tr>\n",
       "  </thead>\n",
       "  <tbody>\n",
       "    <tr>\n",
       "      <th>count</th>\n",
       "      <td>27802</td>\n",
       "      <td>27802</td>\n",
       "    </tr>\n",
       "    <tr>\n",
       "      <th>unique</th>\n",
       "      <td>4</td>\n",
       "      <td>27802</td>\n",
       "    </tr>\n",
       "    <tr>\n",
       "      <th>top</th>\n",
       "      <td>Household</td>\n",
       "      <td>Paper Plane Design Framed Wall Hanging Motivat...</td>\n",
       "    </tr>\n",
       "    <tr>\n",
       "      <th>freq</th>\n",
       "      <td>10564</td>\n",
       "      <td>1</td>\n",
       "    </tr>\n",
       "  </tbody>\n",
       "</table>\n",
       "</div>"
      ],
      "text/plain": [
       "         Category                                        Description\n",
       "count       27802                                              27802\n",
       "unique          4                                              27802\n",
       "top     Household  Paper Plane Design Framed Wall Hanging Motivat...\n",
       "freq        10564                                                  1"
      ]
     },
     "execution_count": 102,
     "metadata": {},
     "output_type": "execute_result"
    }
   ],
   "source": [
    "df.describe()"
   ]
  },
  {
   "cell_type": "markdown",
   "id": "c6f1cf86-c56d-4000-971b-fe6859455a4d",
   "metadata": {},
   "source": [
    "## Cleaned Data Exploration"
   ]
  },
  {
   "cell_type": "code",
   "execution_count": 103,
   "id": "62ea3222-4c62-4f96-839b-93c6c31f03f2",
   "metadata": {},
   "outputs": [
    {
     "data": {
      "text/plain": [
       "Household                 10564\n",
       "Books                      6256\n",
       "Clothing & Accessories     5674\n",
       "Electronics                5308\n",
       "Name: Category, dtype: int64"
      ]
     },
     "execution_count": 103,
     "metadata": {},
     "output_type": "execute_result"
    }
   ],
   "source": [
    "df['Category'].value_counts()"
   ]
  },
  {
   "cell_type": "code",
   "execution_count": 104,
   "id": "894a9041-dc26-41d4-a0c6-151f93b450c8",
   "metadata": {},
   "outputs": [
    {
     "data": {
      "text/html": [
       "<div>\n",
       "<style scoped>\n",
       "    .dataframe tbody tr th:only-of-type {\n",
       "        vertical-align: middle;\n",
       "    }\n",
       "\n",
       "    .dataframe tbody tr th {\n",
       "        vertical-align: top;\n",
       "    }\n",
       "\n",
       "    .dataframe thead th {\n",
       "        text-align: right;\n",
       "    }\n",
       "</style>\n",
       "<table border=\"1\" class=\"dataframe\">\n",
       "  <thead>\n",
       "    <tr style=\"text-align: right;\">\n",
       "      <th></th>\n",
       "      <th>Category</th>\n",
       "      <th>Description</th>\n",
       "    </tr>\n",
       "  </thead>\n",
       "  <tbody>\n",
       "    <tr>\n",
       "      <th>0</th>\n",
       "      <td>Household</td>\n",
       "      <td>Paper Plane Design Framed Wall Hanging Motivat...</td>\n",
       "    </tr>\n",
       "    <tr>\n",
       "      <th>1</th>\n",
       "      <td>Household</td>\n",
       "      <td>SAF 'Floral' Framed Painting (Wood, 30 inch x ...</td>\n",
       "    </tr>\n",
       "    <tr>\n",
       "      <th>2</th>\n",
       "      <td>Household</td>\n",
       "      <td>SAF 'UV Textured Modern Art Print Framed' Pain...</td>\n",
       "    </tr>\n",
       "    <tr>\n",
       "      <th>3</th>\n",
       "      <td>Household</td>\n",
       "      <td>SAF Flower Print Framed Painting (Synthetic, 1...</td>\n",
       "    </tr>\n",
       "    <tr>\n",
       "      <th>4</th>\n",
       "      <td>Household</td>\n",
       "      <td>Incredible Gifts India Wooden Happy Birthday U...</td>\n",
       "    </tr>\n",
       "  </tbody>\n",
       "</table>\n",
       "</div>"
      ],
      "text/plain": [
       "    Category                                        Description\n",
       "0  Household  Paper Plane Design Framed Wall Hanging Motivat...\n",
       "1  Household  SAF 'Floral' Framed Painting (Wood, 30 inch x ...\n",
       "2  Household  SAF 'UV Textured Modern Art Print Framed' Pain...\n",
       "3  Household  SAF Flower Print Framed Painting (Synthetic, 1...\n",
       "4  Household  Incredible Gifts India Wooden Happy Birthday U..."
      ]
     },
     "execution_count": 104,
     "metadata": {},
     "output_type": "execute_result"
    }
   ],
   "source": [
    "df.head()"
   ]
  },
  {
   "cell_type": "code",
   "execution_count": 105,
   "id": "5c1e089b-05bf-4144-b416-dbca351f9f2c",
   "metadata": {},
   "outputs": [],
   "source": [
    "df['length'] = df['Description'].apply(len)"
   ]
  },
  {
   "cell_type": "code",
   "execution_count": 106,
   "id": "9afb19db-a397-4ad1-b130-29369793256f",
   "metadata": {},
   "outputs": [
    {
     "data": {
      "image/png": "[encoded data removed]",
      "text/plain": [
       "<Figure size 842.4x595.44 with 1 Axes>"
      ]
     },
     "metadata": {},
     "output_type": "display_data"
    }
   ],
   "source": [
    "sns.boxplot(data=df[df['length']<4000], x='Category', y='length')\n",
    "plt.show()"
   ]
  },
  {
   "cell_type": "code",
   "execution_count": 107,
   "id": "995b402f-1754-4ea4-80a2-f97770993874",
   "metadata": {},
   "outputs": [
    {
     "data": {
      "text/html": [
       "<div>\n",
       "<style scoped>\n",
       "    .dataframe tbody tr th:only-of-type {\n",
       "        vertical-align: middle;\n",
       "    }\n",
       "\n",
       "    .dataframe tbody tr th {\n",
       "        vertical-align: top;\n",
       "    }\n",
       "\n",
       "    .dataframe thead th {\n",
       "        text-align: right;\n",
       "    }\n",
       "</style>\n",
       "<table border=\"1\" class=\"dataframe\">\n",
       "  <thead>\n",
       "    <tr style=\"text-align: right;\">\n",
       "      <th></th>\n",
       "      <th>count</th>\n",
       "      <th>mean</th>\n",
       "      <th>std</th>\n",
       "      <th>min</th>\n",
       "      <th>25%</th>\n",
       "      <th>50%</th>\n",
       "      <th>75%</th>\n",
       "      <th>max</th>\n",
       "    </tr>\n",
       "    <tr>\n",
       "      <th>Category</th>\n",
       "      <th></th>\n",
       "      <th></th>\n",
       "      <th></th>\n",
       "      <th></th>\n",
       "      <th></th>\n",
       "      <th></th>\n",
       "      <th></th>\n",
       "      <th></th>\n",
       "    </tr>\n",
       "  </thead>\n",
       "  <tbody>\n",
       "    <tr>\n",
       "      <th>Books</th>\n",
       "      <td>6256.0</td>\n",
       "      <td>879.999840</td>\n",
       "      <td>1634.244888</td>\n",
       "      <td>4.0</td>\n",
       "      <td>79.0</td>\n",
       "      <td>472.0</td>\n",
       "      <td>1070.25</td>\n",
       "      <td>32493.0</td>\n",
       "    </tr>\n",
       "    <tr>\n",
       "      <th>Clothing &amp; Accessories</th>\n",
       "      <td>5674.0</td>\n",
       "      <td>446.900775</td>\n",
       "      <td>384.919072</td>\n",
       "      <td>4.0</td>\n",
       "      <td>191.0</td>\n",
       "      <td>344.5</td>\n",
       "      <td>559.00</td>\n",
       "      <td>3474.0</td>\n",
       "    </tr>\n",
       "    <tr>\n",
       "      <th>Electronics</th>\n",
       "      <td>5308.0</td>\n",
       "      <td>825.012811</td>\n",
       "      <td>782.660129</td>\n",
       "      <td>9.0</td>\n",
       "      <td>275.0</td>\n",
       "      <td>616.5</td>\n",
       "      <td>1199.25</td>\n",
       "      <td>12473.0</td>\n",
       "    </tr>\n",
       "    <tr>\n",
       "      <th>Household</th>\n",
       "      <td>10564.0</td>\n",
       "      <td>661.725861</td>\n",
       "      <td>580.744105</td>\n",
       "      <td>8.0</td>\n",
       "      <td>277.0</td>\n",
       "      <td>518.0</td>\n",
       "      <td>893.00</td>\n",
       "      <td>10168.0</td>\n",
       "    </tr>\n",
       "  </tbody>\n",
       "</table>\n",
       "</div>"
      ],
      "text/plain": [
       "                          count        mean          std  min    25%    50%  \\\n",
       "Category                                                                      \n",
       "Books                    6256.0  879.999840  1634.244888  4.0   79.0  472.0   \n",
       "Clothing & Accessories   5674.0  446.900775   384.919072  4.0  191.0  344.5   \n",
       "Electronics              5308.0  825.012811   782.660129  9.0  275.0  616.5   \n",
       "Household               10564.0  661.725861   580.744105  8.0  277.0  518.0   \n",
       "\n",
       "                            75%      max  \n",
       "Category                                  \n",
       "Books                   1070.25  32493.0  \n",
       "Clothing & Accessories   559.00   3474.0  \n",
       "Electronics             1199.25  12473.0  \n",
       "Household                893.00  10168.0  "
      ]
     },
     "execution_count": 107,
     "metadata": {},
     "output_type": "execute_result"
    }
   ],
   "source": [
    "df.groupby('Category')['length'].describe()"
   ]
  },
  {
   "cell_type": "markdown",
   "id": "c4a58625-ed95-4c2c-98ab-c82951be32d8",
   "metadata": {},
   "source": [
    "# Base Model Preprocessing"
   ]
  },
  {
   "cell_type": "code",
   "execution_count": 108,
   "id": "0d87fbb7-aaf5-497d-a709-af18a6426988",
   "metadata": {},
   "outputs": [],
   "source": [
    "df[\"Category\"] = df[\"Category\"].astype('category')\n",
    "df['Cat'] = df['Category'].cat.codes\n",
    "X = df['Description']\n",
    "y = df['Cat']\n",
    "X_train, X_test, y_train, y_test = train_test_split(X,y, test_size=0.25, random_state= 42)"
   ]
  },
  {
   "cell_type": "code",
   "execution_count": 109,
   "id": "9117d260-b05d-4d13-aa39-0f1431bd1710",
   "metadata": {},
   "outputs": [],
   "source": [
    "# TF-IDF Vectorization\n",
    "TfidfVec = TfidfVectorizer(analyzer='word', stop_words='english')\n",
    "X_train_t = TfidfVec.fit_transform(X_train)\n",
    "\n",
    "\n",
    "# Count Vectorisation \n",
    "cntVec = CountVectorizer(analyzer='word', stop_words='english')\n",
    "X_train_c = cntVec.fit_transform(X_train)\n"
   ]
  },
  {
   "cell_type": "code",
   "execution_count": 110,
   "id": "76edaeca-1917-4516-8b12-b3dabf2e4e48",
   "metadata": {},
   "outputs": [],
   "source": [
    "# Classifiers\n",
    "names = [\n",
    "    \"Logistic Regression\",\n",
    "    \"KNN Classifier\",\n",
    "    \"Decision Tree\",\n",
    "    \"Linear SVM\",\n",
    "    \"Random Forest\",\n",
    "    \"SGD Classifier\",\n",
    "    \"Ridge Classifier\",\n",
    "    \"XGBoost\",\n",
    "]\n",
    "\n",
    "models = [\n",
    "    LogisticRegression(max_iter = 1000),\n",
    "    KNeighborsClassifier(n_neighbors = 50),\n",
    "    DecisionTreeClassifier(),\n",
    "    svm.SVC(kernel = 'linear'),\n",
    "    RandomForestClassifier(n_estimators = 100),\n",
    "    SGDClassifier(loss = 'hinge'),\n",
    "    RidgeClassifier(),\n",
    "    xgb.XGBClassifier(),\n",
    "]"
   ]
  },
  {
   "cell_type": "markdown",
   "id": "74cf39e1-12b4-439c-91c9-deca714a4632",
   "metadata": {},
   "source": [
    "## Base Model Scoring"
   ]
  },
  {
   "cell_type": "code",
   "execution_count": 111,
   "id": "36112513-5762-41bb-83f5-4d709c56131b",
   "metadata": {},
   "outputs": [
    {
     "data": {
      "text/html": [
       "<div>\n",
       "<style scoped>\n",
       "    .dataframe tbody tr th:only-of-type {\n",
       "        vertical-align: middle;\n",
       "    }\n",
       "\n",
       "    .dataframe tbody tr th {\n",
       "        vertical-align: top;\n",
       "    }\n",
       "\n",
       "    .dataframe thead th {\n",
       "        text-align: right;\n",
       "    }\n",
       "</style>\n",
       "<table border=\"1\" class=\"dataframe\">\n",
       "  <thead>\n",
       "    <tr style=\"text-align: right;\">\n",
       "      <th></th>\n",
       "      <th>Method</th>\n",
       "      <th>Log Reg</th>\n",
       "      <th>KNN</th>\n",
       "      <th>Decision Tree</th>\n",
       "      <th>Linear SVM</th>\n",
       "      <th>Rand Forrest</th>\n",
       "      <th>SGD</th>\n",
       "      <th>Ridge</th>\n",
       "      <th>XGBoost</th>\n",
       "    </tr>\n",
       "  </thead>\n",
       "  <tbody>\n",
       "    <tr>\n",
       "      <th>0</th>\n",
       "      <td>TFIDF</td>\n",
       "      <td>0.946896</td>\n",
       "      <td>0.927469</td>\n",
       "      <td>0.869427</td>\n",
       "      <td>0.952105</td>\n",
       "      <td>0.926994</td>\n",
       "      <td>0.952676</td>\n",
       "      <td>0.953639</td>\n",
       "      <td>0.929389</td>\n",
       "    </tr>\n",
       "  </tbody>\n",
       "</table>\n",
       "</div>"
      ],
      "text/plain": [
       "  Method   Log Reg       KNN Decision Tree Linear SVM Rand Forrest       SGD  \\\n",
       "0  TFIDF  0.946896  0.927469      0.869427   0.952105     0.926994  0.952676   \n",
       "\n",
       "      Ridge   XGBoost  \n",
       "0  0.953639  0.929389  "
      ]
     },
     "execution_count": 111,
     "metadata": {},
     "output_type": "execute_result"
    }
   ],
   "source": [
    "res = pd.DataFrame(columns = ['Method', 'Log Reg', 'KNN','Decision Tree', 'Linear SVM', 'Rand Forrest', 'SGD', 'Ridge', 'XGBoost'])  \n",
    "l = []\n",
    "\n",
    "#TDIDF Validation \n",
    "i = 0\n",
    "for model in models:\n",
    "    model_n = names[i]\n",
    "    scores = cross_val_score(models[i], X_train_t, y_train, cv=5, scoring='f1_weighted')\n",
    "    l.append(scores.mean())\n",
    "    i = i + 1\n",
    "res = res.append({'Method': 'TFIDF', 'Log Reg':l[0], 'KNN':l[1],'Decision Tree':l[2], 'Linear SVM':l[3], 'Rand Forrest':l[4], 'SGD':l[5],\n",
    "                'Ridge':l[6], 'XGBoost':l[7]},\n",
    "        ignore_index = True)\n",
    "res"
   ]
  },
  {
   "cell_type": "code",
   "execution_count": 112,
   "id": "fd3a1f5d-c6a6-42c9-bbe3-972e2d8a8872",
   "metadata": {},
   "outputs": [
    {
     "data": {
      "text/html": [
       "<div>\n",
       "<style scoped>\n",
       "    .dataframe tbody tr th:only-of-type {\n",
       "        vertical-align: middle;\n",
       "    }\n",
       "\n",
       "    .dataframe tbody tr th {\n",
       "        vertical-align: top;\n",
       "    }\n",
       "\n",
       "    .dataframe thead th {\n",
       "        text-align: right;\n",
       "    }\n",
       "</style>\n",
       "<table border=\"1\" class=\"dataframe\">\n",
       "  <thead>\n",
       "    <tr style=\"text-align: right;\">\n",
       "      <th></th>\n",
       "      <th>Method</th>\n",
       "      <th>Log Reg</th>\n",
       "      <th>KNN</th>\n",
       "      <th>Decision Tree</th>\n",
       "      <th>Linear SVM</th>\n",
       "      <th>Rand Forrest</th>\n",
       "      <th>SGD</th>\n",
       "      <th>Ridge</th>\n",
       "      <th>XGBoost</th>\n",
       "    </tr>\n",
       "  </thead>\n",
       "  <tbody>\n",
       "    <tr>\n",
       "      <th>0</th>\n",
       "      <td>TFIDF</td>\n",
       "      <td>0.946896</td>\n",
       "      <td>0.927469</td>\n",
       "      <td>0.869427</td>\n",
       "      <td>0.952105</td>\n",
       "      <td>0.926994</td>\n",
       "      <td>0.952676</td>\n",
       "      <td>0.953639</td>\n",
       "      <td>0.929389</td>\n",
       "    </tr>\n",
       "    <tr>\n",
       "      <th>1</th>\n",
       "      <td>Count Vec</td>\n",
       "      <td>0.94149</td>\n",
       "      <td>0.479646</td>\n",
       "      <td>0.872031</td>\n",
       "      <td>0.928849</td>\n",
       "      <td>0.925481</td>\n",
       "      <td>0.93773</td>\n",
       "      <td>0.869433</td>\n",
       "      <td>0.930051</td>\n",
       "    </tr>\n",
       "  </tbody>\n",
       "</table>\n",
       "</div>"
      ],
      "text/plain": [
       "      Method   Log Reg       KNN Decision Tree Linear SVM Rand Forrest  \\\n",
       "0      TFIDF  0.946896  0.927469      0.869427   0.952105     0.926994   \n",
       "1  Count Vec   0.94149  0.479646      0.872031   0.928849     0.925481   \n",
       "\n",
       "        SGD     Ridge   XGBoost  \n",
       "0  0.952676  0.953639  0.929389  \n",
       "1   0.93773  0.869433  0.930051  "
      ]
     },
     "execution_count": 112,
     "metadata": {},
     "output_type": "execute_result"
    }
   ],
   "source": [
    "#CountVec Cross Val\n",
    "i = 0\n",
    "l = []\n",
    "\n",
    "for model in models:\n",
    "    model_n = names[i]\n",
    "    scores = cross_val_score(models[i], X_train_c, y_train, cv=5, scoring='f1_weighted')\n",
    "    l.append(scores.mean())\n",
    "    i = i + 1\n",
    "\n",
    "res = res.append({'Method': 'Count Vec', 'Log Reg':l[0], 'KNN':l[1],'Decision Tree':l[2], 'Linear SVM':l[3], 'Rand Forrest':l[4], 'SGD':l[5],\n",
    "                'Ridge':l[6], 'XGBoost':l[7]},\n",
    "        ignore_index = True)\n",
    "res"
   ]
  },
  {
   "cell_type": "markdown",
   "id": "7f14acf6-1238-4209-b16a-3348596f87bd",
   "metadata": {},
   "source": [
    "# Further Text Preprocessing"
   ]
  },
  {
   "cell_type": "code",
   "execution_count": 113,
   "id": "6e8c33f9-ba42-4a95-947e-d66452fee7d0",
   "metadata": {},
   "outputs": [],
   "source": [
    "# PreProcessing Functions \n",
    "# Code for these functions heavily influenced by Sugata Ghosh \n",
    "# https://www.kaggle.com/sugataghosh\n",
    "\n",
    "# Stopwords\n",
    "stops = stopwords.words(\"english\") # stopwords\n",
    "addstops = [\"among\", \"onto\", \"shall\", \"thrice\", \"thus\", \"twice\", \"unto\", \"us\", \"would\"] # additional stopwords\n",
    "allstops = stops + addstops\n",
    "\n",
    "# Function to remove stopwords from a list of texts\n",
    "def remove_stopwords(text):\n",
    "    return \" \".join([word for word in word_tokenize(text) if word not in allstops])\n",
    "\n",
    "# Lemmatization\n",
    "spacy_lemmatizer = spacy.load(\"en_core_web_sm\", disable = ['parser', 'ner'])\n",
    "\n",
    "def text_lemmatizer(text):\n",
    "    text_spacy = \" \".join([token.lemma_ for token in spacy_lemmatizer(text)])\n",
    "    return text_spacy"
   ]
  },
  {
   "cell_type": "code",
   "execution_count": 114,
   "id": "0147bcf3-3179-4f7a-979f-715da333e7bc",
   "metadata": {},
   "outputs": [],
   "source": [
    "#Processing \n",
    "df['Description'] = df['Description'].apply(str.lower)\n",
    "df['Description'] = df['Description'].apply(remove_stopwords)\n",
    "df['Description'] = df['Description'].apply(text_lemmatizer)"
   ]
  },
  {
   "cell_type": "code",
   "execution_count": 115,
   "id": "b9849d13-e07f-4fdd-9b50-2bc347344a18",
   "metadata": {},
   "outputs": [],
   "source": [
    "# Reassign and Split\n",
    "X = df['Description']\n",
    "y = df['Cat']\n",
    "X_train, X_test, y_train, y_test = train_test_split(X,y, test_size=0.25, random_state= 42)"
   ]
  },
  {
   "cell_type": "code",
   "execution_count": 116,
   "id": "31acb393-a8bf-48a4-9139-f51c5eb6c4bc",
   "metadata": {},
   "outputs": [],
   "source": [
    "# TF-IDF Vectorization\n",
    "TfidfVec = TfidfVectorizer(analyzer='word', stop_words='english')\n",
    "X_train_tp = TfidfVec.fit_transform(X_train)\n",
    "\n",
    "# Count Vectorisation \n",
    "cntVec = CountVectorizer(analyzer='word', stop_words='english')\n",
    "X_train_cp = cntVec.fit_transform(X_train)"
   ]
  },
  {
   "cell_type": "markdown",
   "id": "02a13882-d8ad-412b-af07-9f77e19083f2",
   "metadata": {},
   "source": [
    "## Preprocessed Text Scoring"
   ]
  },
  {
   "cell_type": "code",
   "execution_count": 117,
   "id": "bf938945-8a9c-42d1-aa5c-942151a178dd",
   "metadata": {},
   "outputs": [
    {
     "data": {
      "text/html": [
       "<div>\n",
       "<style scoped>\n",
       "    .dataframe tbody tr th:only-of-type {\n",
       "        vertical-align: middle;\n",
       "    }\n",
       "\n",
       "    .dataframe tbody tr th {\n",
       "        vertical-align: top;\n",
       "    }\n",
       "\n",
       "    .dataframe thead th {\n",
       "        text-align: right;\n",
       "    }\n",
       "</style>\n",
       "<table border=\"1\" class=\"dataframe\">\n",
       "  <thead>\n",
       "    <tr style=\"text-align: right;\">\n",
       "      <th></th>\n",
       "      <th>Method</th>\n",
       "      <th>Log Reg</th>\n",
       "      <th>KNN</th>\n",
       "      <th>Decision Tree</th>\n",
       "      <th>Linear SVM</th>\n",
       "      <th>Rand Forrest</th>\n",
       "      <th>SGD</th>\n",
       "      <th>Ridge</th>\n",
       "      <th>XGBoost</th>\n",
       "    </tr>\n",
       "  </thead>\n",
       "  <tbody>\n",
       "    <tr>\n",
       "      <th>0</th>\n",
       "      <td>TFIDF</td>\n",
       "      <td>0.946896</td>\n",
       "      <td>0.927469</td>\n",
       "      <td>0.869427</td>\n",
       "      <td>0.952105</td>\n",
       "      <td>0.926994</td>\n",
       "      <td>0.952676</td>\n",
       "      <td>0.953639</td>\n",
       "      <td>0.929389</td>\n",
       "    </tr>\n",
       "    <tr>\n",
       "      <th>1</th>\n",
       "      <td>Count Vec</td>\n",
       "      <td>0.94149</td>\n",
       "      <td>0.479646</td>\n",
       "      <td>0.872031</td>\n",
       "      <td>0.928849</td>\n",
       "      <td>0.925481</td>\n",
       "      <td>0.93773</td>\n",
       "      <td>0.869433</td>\n",
       "      <td>0.930051</td>\n",
       "    </tr>\n",
       "    <tr>\n",
       "      <th>2</th>\n",
       "      <td>TFIDF Pre-Processed</td>\n",
       "      <td>0.947128</td>\n",
       "      <td>0.927569</td>\n",
       "      <td>0.869719</td>\n",
       "      <td>0.952243</td>\n",
       "      <td>0.925794</td>\n",
       "      <td>0.952876</td>\n",
       "      <td>0.953056</td>\n",
       "      <td>0.93109</td>\n",
       "    </tr>\n",
       "  </tbody>\n",
       "</table>\n",
       "</div>"
      ],
      "text/plain": [
       "                Method   Log Reg       KNN Decision Tree Linear SVM  \\\n",
       "0                TFIDF  0.946896  0.927469      0.869427   0.952105   \n",
       "1            Count Vec   0.94149  0.479646      0.872031   0.928849   \n",
       "2  TFIDF Pre-Processed  0.947128  0.927569      0.869719   0.952243   \n",
       "\n",
       "  Rand Forrest       SGD     Ridge   XGBoost  \n",
       "0     0.926994  0.952676  0.953639  0.929389  \n",
       "1     0.925481   0.93773  0.869433  0.930051  \n",
       "2     0.925794  0.952876  0.953056   0.93109  "
      ]
     },
     "execution_count": 117,
     "metadata": {},
     "output_type": "execute_result"
    }
   ],
   "source": [
    "l = []\n",
    "\n",
    "#TDIDF Validation Scoring  \n",
    "i = 0\n",
    "for model in models:\n",
    "    model_n = names[i]\n",
    "    scores = cross_val_score(models[i], X_train_tp, y_train, cv=5, scoring='f1_weighted')\n",
    "    l.append(scores.mean())\n",
    "    i = i + 1\n",
    "    \n",
    "res = res.append({'Method': 'TFIDF Pre-Processed', 'Log Reg':l[0], 'KNN':l[1],'Decision Tree':l[2], 'Linear SVM':l[3], 'Rand Forrest':l[4], 'SGD':l[5],\n",
    "                'Ridge':l[6], 'XGBoost':l[7]},\n",
    "        ignore_index = True)\n",
    "res"
   ]
  },
  {
   "cell_type": "code",
   "execution_count": 118,
   "id": "6f5f89f3-2aba-4ff0-8f50-d53cfd44c24e",
   "metadata": {},
   "outputs": [
    {
     "data": {
      "text/html": [
       "<div>\n",
       "<style scoped>\n",
       "    .dataframe tbody tr th:only-of-type {\n",
       "        vertical-align: middle;\n",
       "    }\n",
       "\n",
       "    .dataframe tbody tr th {\n",
       "        vertical-align: top;\n",
       "    }\n",
       "\n",
       "    .dataframe thead th {\n",
       "        text-align: right;\n",
       "    }\n",
       "</style>\n",
       "<table border=\"1\" class=\"dataframe\">\n",
       "  <thead>\n",
       "    <tr style=\"text-align: right;\">\n",
       "      <th></th>\n",
       "      <th>Method</th>\n",
       "      <th>Log Reg</th>\n",
       "      <th>KNN</th>\n",
       "      <th>Decision Tree</th>\n",
       "      <th>Linear SVM</th>\n",
       "      <th>Rand Forrest</th>\n",
       "      <th>SGD</th>\n",
       "      <th>Ridge</th>\n",
       "      <th>XGBoost</th>\n",
       "    </tr>\n",
       "  </thead>\n",
       "  <tbody>\n",
       "    <tr>\n",
       "      <th>0</th>\n",
       "      <td>TFIDF</td>\n",
       "      <td>0.946896</td>\n",
       "      <td>0.927469</td>\n",
       "      <td>0.869427</td>\n",
       "      <td>0.952105</td>\n",
       "      <td>0.926994</td>\n",
       "      <td>0.952676</td>\n",
       "      <td>0.953639</td>\n",
       "      <td>0.929389</td>\n",
       "    </tr>\n",
       "    <tr>\n",
       "      <th>1</th>\n",
       "      <td>Count Vec</td>\n",
       "      <td>0.94149</td>\n",
       "      <td>0.479646</td>\n",
       "      <td>0.872031</td>\n",
       "      <td>0.928849</td>\n",
       "      <td>0.925481</td>\n",
       "      <td>0.93773</td>\n",
       "      <td>0.869433</td>\n",
       "      <td>0.930051</td>\n",
       "    </tr>\n",
       "    <tr>\n",
       "      <th>2</th>\n",
       "      <td>TFIDF Pre-Processed</td>\n",
       "      <td>0.947128</td>\n",
       "      <td>0.927569</td>\n",
       "      <td>0.869719</td>\n",
       "      <td>0.952243</td>\n",
       "      <td>0.925794</td>\n",
       "      <td>0.952876</td>\n",
       "      <td>0.953056</td>\n",
       "      <td>0.93109</td>\n",
       "    </tr>\n",
       "    <tr>\n",
       "      <th>3</th>\n",
       "      <td>Count Vec - Pre-Processed</td>\n",
       "      <td>0.941393</td>\n",
       "      <td>0.529036</td>\n",
       "      <td>0.876084</td>\n",
       "      <td>0.92879</td>\n",
       "      <td>0.926261</td>\n",
       "      <td>0.938262</td>\n",
       "      <td>0.867789</td>\n",
       "      <td>0.928917</td>\n",
       "    </tr>\n",
       "  </tbody>\n",
       "</table>\n",
       "</div>"
      ],
      "text/plain": [
       "                      Method   Log Reg       KNN Decision Tree Linear SVM  \\\n",
       "0                      TFIDF  0.946896  0.927469      0.869427   0.952105   \n",
       "1                  Count Vec   0.94149  0.479646      0.872031   0.928849   \n",
       "2        TFIDF Pre-Processed  0.947128  0.927569      0.869719   0.952243   \n",
       "3  Count Vec - Pre-Processed  0.941393  0.529036      0.876084    0.92879   \n",
       "\n",
       "  Rand Forrest       SGD     Ridge   XGBoost  \n",
       "0     0.926994  0.952676  0.953639  0.929389  \n",
       "1     0.925481   0.93773  0.869433  0.930051  \n",
       "2     0.925794  0.952876  0.953056   0.93109  \n",
       "3     0.926261  0.938262  0.867789  0.928917  "
      ]
     },
     "execution_count": 118,
     "metadata": {},
     "output_type": "execute_result"
    }
   ],
   "source": [
    "#Count Vec Cross Val\n",
    "i = 0\n",
    "l = []\n",
    "for model in models:\n",
    "    model_n = names[i]\n",
    "    scores = cross_val_score(models[i], X_train_cp, y_train, cv=5, scoring='f1_weighted')\n",
    "    l.append(scores.mean())\n",
    "    i = i + 1\n",
    "\n",
    "res = res.append({'Method': 'Count Vec - Pre-Processed', 'Log Reg':l[0], 'KNN':l[1],'Decision Tree':l[2], 'Linear SVM':l[3], 'Rand Forrest':l[4], 'SGD':l[5],\n",
    "                'Ridge':l[6], 'XGBoost':l[7]},\n",
    "        ignore_index = True)\n",
    "res"
   ]
  },
  {
   "cell_type": "markdown",
   "id": "0d1d63bf-3975-415b-8c2e-efa356422010",
   "metadata": {},
   "source": [
    "## Tuning the best performing models"
   ]
  },
  {
   "cell_type": "code",
   "execution_count": 119,
   "id": "e09511a5-de79-4c25-b8b3-96faa2506c59",
   "metadata": {},
   "outputs": [
    {
     "name": "stdout",
     "output_type": "stream",
     "text": [
      "Fitting 5 folds for each of 10 candidates, totalling 50 fits\n",
      "[CV 1/5] END .........................alpha=0.1;, score=0.948 total time=   0.7s\n",
      "[CV 2/5] END .........................alpha=0.1;, score=0.951 total time=   0.7s\n",
      "[CV 3/5] END .........................alpha=0.1;, score=0.951 total time=   0.7s\n",
      "[CV 4/5] END .........................alpha=0.1;, score=0.952 total time=   0.7s\n",
      "[CV 5/5] END .........................alpha=0.1;, score=0.951 total time=   0.7s\n",
      "[CV 1/5] END .........................alpha=0.2;, score=0.950 total time=   0.5s\n",
      "[CV 2/5] END .........................alpha=0.2;, score=0.955 total time=   0.5s\n",
      "[CV 3/5] END .........................alpha=0.2;, score=0.954 total time=   0.5s\n",
      "[CV 4/5] END .........................alpha=0.2;, score=0.953 total time=   0.5s\n",
      "[CV 5/5] END .........................alpha=0.2;, score=0.951 total time=   0.5s\n",
      "[CV 1/5] END .........................alpha=0.3;, score=0.950 total time=   0.4s\n",
      "[CV 2/5] END .........................alpha=0.3;, score=0.956 total time=   0.4s\n",
      "[CV 3/5] END .........................alpha=0.3;, score=0.955 total time=   0.5s\n",
      "[CV 4/5] END .........................alpha=0.3;, score=0.954 total time=   0.4s\n",
      "[CV 5/5] END .........................alpha=0.3;, score=0.951 total time=   0.4s\n",
      "[CV 1/5] END .........................alpha=0.4;, score=0.951 total time=   0.4s\n",
      "[CV 2/5] END .........................alpha=0.4;, score=0.957 total time=   0.4s\n",
      "[CV 3/5] END .........................alpha=0.4;, score=0.955 total time=   0.4s\n",
      "[CV 4/5] END .........................alpha=0.4;, score=0.953 total time=   0.4s\n",
      "[CV 5/5] END .........................alpha=0.4;, score=0.952 total time=   0.4s\n",
      "[CV 1/5] END .........................alpha=0.5;, score=0.951 total time=   0.4s\n",
      "[CV 2/5] END .........................alpha=0.5;, score=0.956 total time=   0.4s\n",
      "[CV 3/5] END .........................alpha=0.5;, score=0.955 total time=   0.3s\n",
      "[CV 4/5] END .........................alpha=0.5;, score=0.953 total time=   0.3s\n",
      "[CV 5/5] END .........................alpha=0.5;, score=0.952 total time=   0.3s\n",
      "[CV 1/5] END .........................alpha=0.6;, score=0.951 total time=   0.3s\n",
      "[CV 2/5] END .........................alpha=0.6;, score=0.957 total time=   0.3s\n",
      "[CV 3/5] END .........................alpha=0.6;, score=0.955 total time=   0.3s\n",
      "[CV 4/5] END .........................alpha=0.6;, score=0.953 total time=   0.3s\n",
      "[CV 5/5] END .........................alpha=0.6;, score=0.952 total time=   0.3s\n",
      "[CV 1/5] END .........................alpha=0.7;, score=0.952 total time=   0.3s\n",
      "[CV 2/5] END .........................alpha=0.7;, score=0.958 total time=   0.3s\n",
      "[CV 3/5] END .........................alpha=0.7;, score=0.956 total time=   0.3s\n",
      "[CV 4/5] END .........................alpha=0.7;, score=0.953 total time=   0.3s\n",
      "[CV 5/5] END .........................alpha=0.7;, score=0.952 total time=   0.3s\n",
      "[CV 1/5] END .........................alpha=0.8;, score=0.952 total time=   0.3s\n",
      "[CV 2/5] END .........................alpha=0.8;, score=0.957 total time=   0.3s\n",
      "[CV 3/5] END .........................alpha=0.8;, score=0.955 total time=   0.3s\n",
      "[CV 4/5] END .........................alpha=0.8;, score=0.952 total time=   0.3s\n",
      "[CV 5/5] END .........................alpha=0.8;, score=0.952 total time=   0.3s\n",
      "[CV 1/5] END .........................alpha=0.9;, score=0.952 total time=   0.3s\n",
      "[CV 2/5] END .........................alpha=0.9;, score=0.957 total time=   0.3s\n",
      "[CV 3/5] END .........................alpha=0.9;, score=0.955 total time=   0.3s\n",
      "[CV 4/5] END .........................alpha=0.9;, score=0.952 total time=   0.3s\n",
      "[CV 5/5] END .........................alpha=0.9;, score=0.952 total time=   0.3s\n",
      "[CV 1/5] END .........................alpha=1.0;, score=0.952 total time=   0.3s\n",
      "[CV 2/5] END .........................alpha=1.0;, score=0.958 total time=   0.3s\n",
      "[CV 3/5] END .........................alpha=1.0;, score=0.955 total time=   0.3s\n",
      "[CV 4/5] END .........................alpha=1.0;, score=0.952 total time=   0.3s\n",
      "[CV 5/5] END .........................alpha=1.0;, score=0.951 total time=   0.3s\n"
     ]
    },
    {
     "data": {
      "text/plain": [
       "GridSearchCV(estimator=RidgeClassifier(),\n",
       "             param_grid={'alpha': [0.1, 0.2, 0.3, 0.4, 0.5, 0.6, 0.7, 0.8, 0.9,\n",
       "                                   1.0]},\n",
       "             scoring='f1_weighted', verbose=3)"
      ]
     },
     "execution_count": 119,
     "metadata": {},
     "output_type": "execute_result"
    }
   ],
   "source": [
    "### Best Performing Models \n",
    "# Ridge TDF IDF - Unprocessed\n",
    "from sklearn.model_selection import GridSearchCV\n",
    "  \n",
    "# defining parameter range\n",
    "param_grid = {'alpha': [0.1, 0.2, 0.3, 0.4, 0.5, 0.6, 0.7, 0.8, 0.9, 1.0]} \n",
    "  \n",
    "grid = GridSearchCV(RidgeClassifier(), param_grid, refit = True, scoring = 'f1_weighted',verbose = 3)\n",
    "  \n",
    "# fitting the model for grid search\n",
    "grid.fit(X_train_t, y_train)"
   ]
  },
  {
   "cell_type": "code",
   "execution_count": 120,
   "id": "b34248f9-6157-497a-a903-65af0d75a457",
   "metadata": {},
   "outputs": [
    {
     "name": "stdout",
     "output_type": "stream",
     "text": [
      "{'alpha': 0.7}\n",
      "RidgeClassifier(alpha=0.7)\n"
     ]
    }
   ],
   "source": [
    "# print best parameter after tuning\n",
    "print(grid.best_params_)\n",
    "  \n",
    "# print how our model looks after hyper-parameter tuning\n",
    "print(grid.best_estimator_)"
   ]
  },
  {
   "cell_type": "code",
   "execution_count": 121,
   "id": "1d64e79c-9d88-4129-b612-d9bbeb56d814",
   "metadata": {},
   "outputs": [
    {
     "name": "stdout",
     "output_type": "stream",
     "text": [
      "Fitting 5 folds for each of 48 candidates, totalling 240 fits\n",
      "[CV 1/5] END alpha=0.0001, loss=hinge, penalty=l2;, score=0.951 total time=   0.1s\n",
      "[CV 2/5] END alpha=0.0001, loss=hinge, penalty=l2;, score=0.957 total time=   0.1s\n",
      "[CV 3/5] END alpha=0.0001, loss=hinge, penalty=l2;, score=0.954 total time=   0.1s\n",
      "[CV 4/5] END alpha=0.0001, loss=hinge, penalty=l2;, score=0.950 total time=   0.1s\n",
      "[CV 5/5] END alpha=0.0001, loss=hinge, penalty=l2;, score=0.951 total time=   0.1s\n",
      "[CV 1/5] END alpha=0.0001, loss=hinge, penalty=l1;, score=0.936 total time=   0.1s\n",
      "[CV 2/5] END alpha=0.0001, loss=hinge, penalty=l1;, score=0.945 total time=   0.1s\n",
      "[CV 3/5] END alpha=0.0001, loss=hinge, penalty=l1;, score=0.939 total time=   0.1s\n",
      "[CV 4/5] END alpha=0.0001, loss=hinge, penalty=l1;, score=0.937 total time=   0.2s\n",
      "[CV 5/5] END alpha=0.0001, loss=hinge, penalty=l1;, score=0.937 total time=   0.1s\n",
      "[CV 1/5] END alpha=0.0001, loss=hinge, penalty=none;, score=0.948 total time=   0.1s\n",
      "[CV 2/5] END alpha=0.0001, loss=hinge, penalty=none;, score=0.953 total time=   0.1s\n",
      "[CV 3/5] END alpha=0.0001, loss=hinge, penalty=none;, score=0.948 total time=   0.1s\n",
      "[CV 4/5] END alpha=0.0001, loss=hinge, penalty=none;, score=0.946 total time=   0.1s\n",
      "[CV 5/5] END alpha=0.0001, loss=hinge, penalty=none;, score=0.951 total time=   0.1s\n",
      "[CV 1/5] END alpha=0.0001, loss=log, penalty=l2;, score=0.940 total time=   0.1s\n",
      "[CV 2/5] END alpha=0.0001, loss=log, penalty=l2;, score=0.945 total time=   0.1s\n",
      "[CV 3/5] END alpha=0.0001, loss=log, penalty=l2;, score=0.937 total time=   0.1s\n",
      "[CV 4/5] END alpha=0.0001, loss=log, penalty=l2;, score=0.935 total time=   0.1s\n",
      "[CV 5/5] END alpha=0.0001, loss=log, penalty=l2;, score=0.938 total time=   0.1s\n",
      "[CV 1/5] END alpha=0.0001, loss=log, penalty=l1;, score=0.919 total time=   0.1s\n",
      "[CV 2/5] END alpha=0.0001, loss=log, penalty=l1;, score=0.932 total time=   0.2s\n",
      "[CV 3/5] END alpha=0.0001, loss=log, penalty=l1;, score=0.920 total time=   0.1s\n",
      "[CV 4/5] END alpha=0.0001, loss=log, penalty=l1;, score=0.922 total time=   0.1s\n",
      "[CV 5/5] END alpha=0.0001, loss=log, penalty=l1;, score=0.920 total time=   0.1s\n",
      "[CV 1/5] END alpha=0.0001, loss=log, penalty=none;, score=0.950 total time=   0.2s\n",
      "[CV 2/5] END alpha=0.0001, loss=log, penalty=none;, score=0.958 total time=   0.2s\n",
      "[CV 3/5] END alpha=0.0001, loss=log, penalty=none;, score=0.952 total time=   0.2s\n",
      "[CV 4/5] END alpha=0.0001, loss=log, penalty=none;, score=0.949 total time=   0.2s\n",
      "[CV 5/5] END alpha=0.0001, loss=log, penalty=none;, score=0.947 total time=   0.2s\n",
      "[CV 1/5] END alpha=0.0001, loss=squared_hinge, penalty=l2;, score=0.947 total time=   0.1s\n",
      "[CV 2/5] END alpha=0.0001, loss=squared_hinge, penalty=l2;, score=0.940 total time=   0.1s\n",
      "[CV 3/5] END alpha=0.0001, loss=squared_hinge, penalty=l2;, score=0.945 total time=   0.1s\n",
      "[CV 4/5] END alpha=0.0001, loss=squared_hinge, penalty=l2;, score=0.941 total time=   0.1s\n",
      "[CV 5/5] END alpha=0.0001, loss=squared_hinge, penalty=l2;, score=0.945 total time=   0.1s\n"
     ]
    },
    {
     "name": "stderr",
     "output_type": "stream",
     "text": [
      "/Users/adamgrant/opt/anaconda3/lib/python3.9/site-packages/sklearn/linear_model/_stochastic_gradient.py:696: ConvergenceWarning: Maximum number of iteration reached before convergence. Consider increasing max_iter to improve the fit.\n",
      "  warnings.warn(\n"
     ]
    },
    {
     "name": "stdout",
     "output_type": "stream",
     "text": [
      "[CV 1/5] END alpha=0.0001, loss=squared_hinge, penalty=l1;, score=0.910 total time=   8.1s\n"
     ]
    },
    {
     "name": "stderr",
     "output_type": "stream",
     "text": [
      "/Users/adamgrant/opt/anaconda3/lib/python3.9/site-packages/sklearn/linear_model/_stochastic_gradient.py:696: ConvergenceWarning: Maximum number of iteration reached before convergence. Consider increasing max_iter to improve the fit.\n",
      "  warnings.warn(\n"
     ]
    },
    {
     "name": "stdout",
     "output_type": "stream",
     "text": [
      "[CV 2/5] END alpha=0.0001, loss=squared_hinge, penalty=l1;, score=0.907 total time=   8.1s\n",
      "[CV 3/5] END alpha=0.0001, loss=squared_hinge, penalty=l1;, score=0.914 total time=   2.3s\n",
      "[CV 4/5] END alpha=0.0001, loss=squared_hinge, penalty=l1;, score=0.916 total time=   3.1s\n",
      "[CV 5/5] END alpha=0.0001, loss=squared_hinge, penalty=l1;, score=0.921 total time=   3.1s\n"
     ]
    },
    {
     "name": "stderr",
     "output_type": "stream",
     "text": [
      "/Users/adamgrant/opt/anaconda3/lib/python3.9/site-packages/sklearn/linear_model/_stochastic_gradient.py:696: ConvergenceWarning: Maximum number of iteration reached before convergence. Consider increasing max_iter to improve the fit.\n",
      "  warnings.warn(\n"
     ]
    },
    {
     "name": "stdout",
     "output_type": "stream",
     "text": [
      "[CV 1/5] END alpha=0.0001, loss=squared_hinge, penalty=none;, score=0.898 total time=   2.7s\n",
      "[CV 2/5] END alpha=0.0001, loss=squared_hinge, penalty=none;, score=0.924 total time=   1.1s\n",
      "[CV 3/5] END alpha=0.0001, loss=squared_hinge, penalty=none;, score=0.913 total time=   0.3s\n",
      "[CV 4/5] END alpha=0.0001, loss=squared_hinge, penalty=none;, score=0.904 total time=   1.4s\n"
     ]
    },
    {
     "name": "stderr",
     "output_type": "stream",
     "text": [
      "/Users/adamgrant/opt/anaconda3/lib/python3.9/site-packages/sklearn/linear_model/_stochastic_gradient.py:696: ConvergenceWarning: Maximum number of iteration reached before convergence. Consider increasing max_iter to improve the fit.\n",
      "  warnings.warn(\n"
     ]
    },
    {
     "name": "stdout",
     "output_type": "stream",
     "text": [
      "[CV 5/5] END alpha=0.0001, loss=squared_hinge, penalty=none;, score=0.897 total time=   1.9s\n",
      "[CV 1/5] END alpha=0.0001, loss=modified_huber, penalty=l2;, score=0.952 total time=   0.1s\n",
      "[CV 2/5] END alpha=0.0001, loss=modified_huber, penalty=l2;, score=0.958 total time=   0.1s\n",
      "[CV 3/5] END alpha=0.0001, loss=modified_huber, penalty=l2;, score=0.956 total time=   0.1s\n",
      "[CV 4/5] END alpha=0.0001, loss=modified_huber, penalty=l2;, score=0.952 total time=   0.1s\n",
      "[CV 5/5] END alpha=0.0001, loss=modified_huber, penalty=l2;, score=0.951 total time=   0.1s\n",
      "[CV 1/5] END alpha=0.0001, loss=modified_huber, penalty=l1;, score=0.940 total time=   0.2s\n",
      "[CV 2/5] END alpha=0.0001, loss=modified_huber, penalty=l1;, score=0.948 total time=   0.2s\n",
      "[CV 3/5] END alpha=0.0001, loss=modified_huber, penalty=l1;, score=0.939 total time=   0.2s\n",
      "[CV 4/5] END alpha=0.0001, loss=modified_huber, penalty=l1;, score=0.937 total time=   0.2s\n",
      "[CV 5/5] END alpha=0.0001, loss=modified_huber, penalty=l1;, score=0.937 total time=   0.2s\n",
      "[CV 1/5] END alpha=0.0001, loss=modified_huber, penalty=none;, score=0.939 total time=   0.1s\n",
      "[CV 2/5] END alpha=0.0001, loss=modified_huber, penalty=none;, score=0.938 total time=   0.1s\n",
      "[CV 3/5] END alpha=0.0001, loss=modified_huber, penalty=none;, score=0.939 total time=   0.1s\n",
      "[CV 4/5] END alpha=0.0001, loss=modified_huber, penalty=none;, score=0.938 total time=   0.1s\n",
      "[CV 5/5] END alpha=0.0001, loss=modified_huber, penalty=none;, score=0.934 total time=   0.1s\n",
      "[CV 1/5] END alpha=0.001, loss=hinge, penalty=l2;, score=0.932 total time=   0.1s\n",
      "[CV 2/5] END alpha=0.001, loss=hinge, penalty=l2;, score=0.942 total time=   0.1s\n",
      "[CV 3/5] END alpha=0.001, loss=hinge, penalty=l2;, score=0.933 total time=   0.1s\n",
      "[CV 4/5] END alpha=0.001, loss=hinge, penalty=l2;, score=0.929 total time=   0.1s\n",
      "[CV 5/5] END alpha=0.001, loss=hinge, penalty=l2;, score=0.931 total time=   0.1s\n",
      "[CV 1/5] END alpha=0.001, loss=hinge, penalty=l1;, score=0.838 total time=   0.1s\n",
      "[CV 2/5] END alpha=0.001, loss=hinge, penalty=l1;, score=0.865 total time=   0.1s\n",
      "[CV 3/5] END alpha=0.001, loss=hinge, penalty=l1;, score=0.847 total time=   0.1s\n",
      "[CV 4/5] END alpha=0.001, loss=hinge, penalty=l1;, score=0.845 total time=   0.1s\n",
      "[CV 5/5] END alpha=0.001, loss=hinge, penalty=l1;, score=0.854 total time=   0.1s\n",
      "[CV 1/5] END alpha=0.001, loss=hinge, penalty=none;, score=0.942 total time=   0.1s\n",
      "[CV 2/5] END alpha=0.001, loss=hinge, penalty=none;, score=0.952 total time=   0.1s\n",
      "[CV 3/5] END alpha=0.001, loss=hinge, penalty=none;, score=0.942 total time=   0.1s\n",
      "[CV 4/5] END alpha=0.001, loss=hinge, penalty=none;, score=0.944 total time=   0.1s\n",
      "[CV 5/5] END alpha=0.001, loss=hinge, penalty=none;, score=0.943 total time=   0.1s\n",
      "[CV 1/5] END .alpha=0.001, loss=log, penalty=l2;, score=0.864 total time=   0.1s\n",
      "[CV 2/5] END .alpha=0.001, loss=log, penalty=l2;, score=0.872 total time=   0.1s\n",
      "[CV 3/5] END .alpha=0.001, loss=log, penalty=l2;, score=0.867 total time=   0.1s\n",
      "[CV 4/5] END .alpha=0.001, loss=log, penalty=l2;, score=0.863 total time=   0.1s\n",
      "[CV 5/5] END .alpha=0.001, loss=log, penalty=l2;, score=0.866 total time=   0.1s\n",
      "[CV 1/5] END .alpha=0.001, loss=log, penalty=l1;, score=0.729 total time=   0.2s\n",
      "[CV 2/5] END .alpha=0.001, loss=log, penalty=l1;, score=0.746 total time=   0.2s\n",
      "[CV 3/5] END .alpha=0.001, loss=log, penalty=l1;, score=0.734 total time=   0.2s\n",
      "[CV 4/5] END .alpha=0.001, loss=log, penalty=l1;, score=0.729 total time=   0.2s\n",
      "[CV 5/5] END .alpha=0.001, loss=log, penalty=l1;, score=0.734 total time=   0.2s\n",
      "[CV 1/5] END alpha=0.001, loss=log, penalty=none;, score=0.934 total time=   0.2s\n",
      "[CV 2/5] END alpha=0.001, loss=log, penalty=none;, score=0.945 total time=   0.2s\n",
      "[CV 3/5] END alpha=0.001, loss=log, penalty=none;, score=0.933 total time=   0.2s\n",
      "[CV 4/5] END alpha=0.001, loss=log, penalty=none;, score=0.933 total time=   0.2s\n",
      "[CV 5/5] END alpha=0.001, loss=log, penalty=none;, score=0.933 total time=   0.2s\n",
      "[CV 1/5] END alpha=0.001, loss=squared_hinge, penalty=l2;, score=0.944 total time=   0.1s\n",
      "[CV 2/5] END alpha=0.001, loss=squared_hinge, penalty=l2;, score=0.949 total time=   0.1s\n",
      "[CV 3/5] END alpha=0.001, loss=squared_hinge, penalty=l2;, score=0.942 total time=   0.1s\n",
      "[CV 4/5] END alpha=0.001, loss=squared_hinge, penalty=l2;, score=0.938 total time=   0.1s\n",
      "[CV 5/5] END alpha=0.001, loss=squared_hinge, penalty=l2;, score=0.940 total time=   0.1s\n",
      "[CV 1/5] END alpha=0.001, loss=squared_hinge, penalty=l1;, score=0.864 total time=   0.1s\n",
      "[CV 2/5] END alpha=0.001, loss=squared_hinge, penalty=l1;, score=0.886 total time=   0.1s\n",
      "[CV 3/5] END alpha=0.001, loss=squared_hinge, penalty=l1;, score=0.875 total time=   0.1s\n",
      "[CV 4/5] END alpha=0.001, loss=squared_hinge, penalty=l1;, score=0.869 total time=   0.1s\n",
      "[CV 5/5] END alpha=0.001, loss=squared_hinge, penalty=l1;, score=0.875 total time=   0.1s\n",
      "[CV 1/5] END alpha=0.001, loss=squared_hinge, penalty=none;, score=0.937 total time=   0.1s\n",
      "[CV 2/5] END alpha=0.001, loss=squared_hinge, penalty=none;, score=0.943 total time=   0.1s\n",
      "[CV 3/5] END alpha=0.001, loss=squared_hinge, penalty=none;, score=0.941 total time=   0.1s\n",
      "[CV 4/5] END alpha=0.001, loss=squared_hinge, penalty=none;, score=0.939 total time=   0.1s\n",
      "[CV 5/5] END alpha=0.001, loss=squared_hinge, penalty=none;, score=0.934 total time=   0.1s\n",
      "[CV 1/5] END alpha=0.001, loss=modified_huber, penalty=l2;, score=0.944 total time=   0.1s\n",
      "[CV 2/5] END alpha=0.001, loss=modified_huber, penalty=l2;, score=0.949 total time=   0.1s\n",
      "[CV 3/5] END alpha=0.001, loss=modified_huber, penalty=l2;, score=0.942 total time=   0.1s\n",
      "[CV 4/5] END alpha=0.001, loss=modified_huber, penalty=l2;, score=0.938 total time=   0.1s\n",
      "[CV 5/5] END alpha=0.001, loss=modified_huber, penalty=l2;, score=0.939 total time=   0.1s\n",
      "[CV 1/5] END alpha=0.001, loss=modified_huber, penalty=l1;, score=0.868 total time=   0.1s\n",
      "[CV 2/5] END alpha=0.001, loss=modified_huber, penalty=l1;, score=0.886 total time=   0.1s\n",
      "[CV 3/5] END alpha=0.001, loss=modified_huber, penalty=l1;, score=0.874 total time=   0.1s\n",
      "[CV 4/5] END alpha=0.001, loss=modified_huber, penalty=l1;, score=0.868 total time=   0.1s\n",
      "[CV 5/5] END alpha=0.001, loss=modified_huber, penalty=l1;, score=0.875 total time=   0.1s\n",
      "[CV 1/5] END alpha=0.001, loss=modified_huber, penalty=none;, score=0.940 total time=   0.1s\n",
      "[CV 2/5] END alpha=0.001, loss=modified_huber, penalty=none;, score=0.948 total time=   0.1s\n",
      "[CV 3/5] END alpha=0.001, loss=modified_huber, penalty=none;, score=0.947 total time=   0.1s\n",
      "[CV 4/5] END alpha=0.001, loss=modified_huber, penalty=none;, score=0.943 total time=   0.1s\n",
      "[CV 5/5] END alpha=0.001, loss=modified_huber, penalty=none;, score=0.941 total time=   0.1s\n",
      "[CV 1/5] END alpha=0.01, loss=hinge, penalty=l2;, score=0.905 total time=   0.1s\n",
      "[CV 2/5] END alpha=0.01, loss=hinge, penalty=l2;, score=0.913 total time=   0.1s\n",
      "[CV 3/5] END alpha=0.01, loss=hinge, penalty=l2;, score=0.911 total time=   0.1s\n",
      "[CV 4/5] END alpha=0.01, loss=hinge, penalty=l2;, score=0.906 total time=   0.1s\n",
      "[CV 5/5] END alpha=0.01, loss=hinge, penalty=l2;, score=0.906 total time=   0.1s\n",
      "[CV 1/5] END alpha=0.01, loss=hinge, penalty=l1;, score=0.173 total time=   0.1s\n",
      "[CV 2/5] END alpha=0.01, loss=hinge, penalty=l1;, score=0.081 total time=   0.1s\n",
      "[CV 3/5] END alpha=0.01, loss=hinge, penalty=l1;, score=0.070 total time=   0.1s\n",
      "[CV 4/5] END alpha=0.01, loss=hinge, penalty=l1;, score=0.208 total time=   0.1s\n",
      "[CV 5/5] END alpha=0.01, loss=hinge, penalty=l1;, score=0.070 total time=   0.1s\n",
      "[CV 1/5] END alpha=0.01, loss=hinge, penalty=none;, score=0.927 total time=   0.1s\n",
      "[CV 2/5] END alpha=0.01, loss=hinge, penalty=none;, score=0.935 total time=   0.1s\n",
      "[CV 3/5] END alpha=0.01, loss=hinge, penalty=none;, score=0.926 total time=   0.1s\n",
      "[CV 4/5] END alpha=0.01, loss=hinge, penalty=none;, score=0.926 total time=   0.1s\n",
      "[CV 5/5] END alpha=0.01, loss=hinge, penalty=none;, score=0.925 total time=   0.1s\n",
      "[CV 1/5] END ..alpha=0.01, loss=log, penalty=l2;, score=0.275 total time=   0.1s\n",
      "[CV 2/5] END ..alpha=0.01, loss=log, penalty=l2;, score=0.267 total time=   0.1s\n",
      "[CV 3/5] END ..alpha=0.01, loss=log, penalty=l2;, score=0.296 total time=   0.1s\n",
      "[CV 4/5] END ..alpha=0.01, loss=log, penalty=l2;, score=0.271 total time=   0.1s\n",
      "[CV 5/5] END ..alpha=0.01, loss=log, penalty=l2;, score=0.268 total time=   0.1s\n",
      "[CV 1/5] END ..alpha=0.01, loss=log, penalty=l1;, score=0.209 total time=   0.2s\n",
      "[CV 2/5] END ..alpha=0.01, loss=log, penalty=l1;, score=0.208 total time=   0.1s\n",
      "[CV 3/5] END ..alpha=0.01, loss=log, penalty=l1;, score=0.208 total time=   0.1s\n",
      "[CV 4/5] END ..alpha=0.01, loss=log, penalty=l1;, score=0.208 total time=   0.1s\n",
      "[CV 5/5] END ..alpha=0.01, loss=log, penalty=l1;, score=0.209 total time=   0.1s\n",
      "[CV 1/5] END alpha=0.01, loss=log, penalty=none;, score=0.888 total time=   0.2s\n",
      "[CV 2/5] END alpha=0.01, loss=log, penalty=none;, score=0.896 total time=   0.2s\n",
      "[CV 3/5] END alpha=0.01, loss=log, penalty=none;, score=0.900 total time=   0.2s\n",
      "[CV 4/5] END alpha=0.01, loss=log, penalty=none;, score=0.888 total time=   0.2s\n",
      "[CV 5/5] END alpha=0.01, loss=log, penalty=none;, score=0.890 total time=   0.2s\n",
      "[CV 1/5] END alpha=0.01, loss=squared_hinge, penalty=l2;, score=0.871 total time=   0.1s\n",
      "[CV 2/5] END alpha=0.01, loss=squared_hinge, penalty=l2;, score=0.882 total time=   0.1s\n",
      "[CV 3/5] END alpha=0.01, loss=squared_hinge, penalty=l2;, score=0.878 total time=   0.1s\n",
      "[CV 4/5] END alpha=0.01, loss=squared_hinge, penalty=l2;, score=0.875 total time=   0.1s\n",
      "[CV 5/5] END alpha=0.01, loss=squared_hinge, penalty=l2;, score=0.874 total time=   0.1s\n",
      "[CV 1/5] END alpha=0.01, loss=squared_hinge, penalty=l1;, score=0.560 total time=   0.2s\n",
      "[CV 2/5] END alpha=0.01, loss=squared_hinge, penalty=l1;, score=0.571 total time=   0.2s\n",
      "[CV 3/5] END alpha=0.01, loss=squared_hinge, penalty=l1;, score=0.568 total time=   0.1s\n",
      "[CV 4/5] END alpha=0.01, loss=squared_hinge, penalty=l1;, score=0.586 total time=   0.2s\n",
      "[CV 5/5] END alpha=0.01, loss=squared_hinge, penalty=l1;, score=0.577 total time=   0.1s\n",
      "[CV 1/5] END alpha=0.01, loss=squared_hinge, penalty=none;, score=0.930 total time=   0.1s\n",
      "[CV 2/5] END alpha=0.01, loss=squared_hinge, penalty=none;, score=0.940 total time=   0.1s\n",
      "[CV 3/5] END alpha=0.01, loss=squared_hinge, penalty=none;, score=0.934 total time=   0.1s\n",
      "[CV 4/5] END alpha=0.01, loss=squared_hinge, penalty=none;, score=0.936 total time=   0.1s\n",
      "[CV 5/5] END alpha=0.01, loss=squared_hinge, penalty=none;, score=0.931 total time=   0.1s\n",
      "[CV 1/5] END alpha=0.01, loss=modified_huber, penalty=l2;, score=0.871 total time=   0.1s\n",
      "[CV 2/5] END alpha=0.01, loss=modified_huber, penalty=l2;, score=0.882 total time=   0.1s\n",
      "[CV 3/5] END alpha=0.01, loss=modified_huber, penalty=l2;, score=0.879 total time=   0.1s\n",
      "[CV 4/5] END alpha=0.01, loss=modified_huber, penalty=l2;, score=0.874 total time=   0.1s\n",
      "[CV 5/5] END alpha=0.01, loss=modified_huber, penalty=l2;, score=0.874 total time=   0.1s\n",
      "[CV 1/5] END alpha=0.01, loss=modified_huber, penalty=l1;, score=0.575 total time=   0.1s\n",
      "[CV 2/5] END alpha=0.01, loss=modified_huber, penalty=l1;, score=0.561 total time=   0.1s\n",
      "[CV 3/5] END alpha=0.01, loss=modified_huber, penalty=l1;, score=0.576 total time=   0.2s\n",
      "[CV 4/5] END alpha=0.01, loss=modified_huber, penalty=l1;, score=0.585 total time=   0.1s\n",
      "[CV 5/5] END alpha=0.01, loss=modified_huber, penalty=l1;, score=0.575 total time=   0.2s\n",
      "[CV 1/5] END alpha=0.01, loss=modified_huber, penalty=none;, score=0.933 total time=   0.1s\n",
      "[CV 2/5] END alpha=0.01, loss=modified_huber, penalty=none;, score=0.943 total time=   0.1s\n",
      "[CV 3/5] END alpha=0.01, loss=modified_huber, penalty=none;, score=0.932 total time=   0.1s\n",
      "[CV 4/5] END alpha=0.01, loss=modified_huber, penalty=none;, score=0.932 total time=   0.1s\n",
      "[CV 5/5] END alpha=0.01, loss=modified_huber, penalty=none;, score=0.933 total time=   0.1s\n",
      "[CV 1/5] END .alpha=0.1, loss=hinge, penalty=l2;, score=0.209 total time=   0.3s\n",
      "[CV 2/5] END .alpha=0.1, loss=hinge, penalty=l2;, score=0.208 total time=   0.3s\n",
      "[CV 3/5] END .alpha=0.1, loss=hinge, penalty=l2;, score=0.208 total time=   0.3s\n",
      "[CV 4/5] END .alpha=0.1, loss=hinge, penalty=l2;, score=0.208 total time=   0.3s\n",
      "[CV 5/5] END .alpha=0.1, loss=hinge, penalty=l2;, score=0.209 total time=   0.3s\n",
      "[CV 1/5] END .alpha=0.1, loss=hinge, penalty=l1;, score=0.209 total time=   0.5s\n",
      "[CV 2/5] END .alpha=0.1, loss=hinge, penalty=l1;, score=0.208 total time=   0.5s\n",
      "[CV 3/5] END .alpha=0.1, loss=hinge, penalty=l1;, score=0.208 total time=   0.5s\n",
      "[CV 4/5] END .alpha=0.1, loss=hinge, penalty=l1;, score=0.208 total time=   0.5s\n",
      "[CV 5/5] END .alpha=0.1, loss=hinge, penalty=l1;, score=0.209 total time=   0.4s\n",
      "[CV 1/5] END alpha=0.1, loss=hinge, penalty=none;, score=0.817 total time=   0.2s\n",
      "[CV 2/5] END alpha=0.1, loss=hinge, penalty=none;, score=0.727 total time=   0.2s\n",
      "[CV 3/5] END alpha=0.1, loss=hinge, penalty=none;, score=0.759 total time=   0.2s\n",
      "[CV 4/5] END alpha=0.1, loss=hinge, penalty=none;, score=0.803 total time=   0.2s\n",
      "[CV 5/5] END alpha=0.1, loss=hinge, penalty=none;, score=0.826 total time=   0.2s\n",
      "[CV 1/5] END ...alpha=0.1, loss=log, penalty=l2;, score=0.209 total time=   0.1s\n",
      "[CV 2/5] END ...alpha=0.1, loss=log, penalty=l2;, score=0.208 total time=   0.1s\n",
      "[CV 3/5] END ...alpha=0.1, loss=log, penalty=l2;, score=0.208 total time=   0.1s\n",
      "[CV 4/5] END ...alpha=0.1, loss=log, penalty=l2;, score=0.208 total time=   0.1s\n",
      "[CV 5/5] END ...alpha=0.1, loss=log, penalty=l2;, score=0.209 total time=   0.1s\n",
      "[CV 1/5] END ...alpha=0.1, loss=log, penalty=l1;, score=0.209 total time=   0.2s\n",
      "[CV 2/5] END ...alpha=0.1, loss=log, penalty=l1;, score=0.208 total time=   0.2s\n",
      "[CV 3/5] END ...alpha=0.1, loss=log, penalty=l1;, score=0.208 total time=   0.2s\n",
      "[CV 4/5] END ...alpha=0.1, loss=log, penalty=l1;, score=0.208 total time=   0.2s\n",
      "[CV 5/5] END ...alpha=0.1, loss=log, penalty=l1;, score=0.209 total time=   0.2s\n",
      "[CV 1/5] END .alpha=0.1, loss=log, penalty=none;, score=0.696 total time=   0.2s\n",
      "[CV 2/5] END .alpha=0.1, loss=log, penalty=none;, score=0.748 total time=   0.2s\n",
      "[CV 3/5] END .alpha=0.1, loss=log, penalty=none;, score=0.709 total time=   0.2s\n",
      "[CV 4/5] END .alpha=0.1, loss=log, penalty=none;, score=0.664 total time=   0.2s\n",
      "[CV 5/5] END .alpha=0.1, loss=log, penalty=none;, score=0.744 total time=   0.2s\n",
      "[CV 1/5] END alpha=0.1, loss=squared_hinge, penalty=l2;, score=0.258 total time=   0.1s\n",
      "[CV 2/5] END alpha=0.1, loss=squared_hinge, penalty=l2;, score=0.238 total time=   0.1s\n",
      "[CV 3/5] END alpha=0.1, loss=squared_hinge, penalty=l2;, score=0.245 total time=   0.1s\n",
      "[CV 4/5] END alpha=0.1, loss=squared_hinge, penalty=l2;, score=0.259 total time=   0.1s\n",
      "[CV 5/5] END alpha=0.1, loss=squared_hinge, penalty=l2;, score=0.229 total time=   0.1s\n",
      "[CV 1/5] END alpha=0.1, loss=squared_hinge, penalty=l1;, score=0.209 total time=   0.1s\n",
      "[CV 2/5] END alpha=0.1, loss=squared_hinge, penalty=l1;, score=0.208 total time=   0.1s\n",
      "[CV 3/5] END alpha=0.1, loss=squared_hinge, penalty=l1;, score=0.208 total time=   0.1s\n",
      "[CV 4/5] END alpha=0.1, loss=squared_hinge, penalty=l1;, score=0.208 total time=   0.1s\n",
      "[CV 5/5] END alpha=0.1, loss=squared_hinge, penalty=l1;, score=0.209 total time=   0.1s\n",
      "[CV 1/5] END alpha=0.1, loss=squared_hinge, penalty=none;, score=0.893 total time=   0.2s\n",
      "[CV 2/5] END alpha=0.1, loss=squared_hinge, penalty=none;, score=0.895 total time=   0.2s\n",
      "[CV 3/5] END alpha=0.1, loss=squared_hinge, penalty=none;, score=0.890 total time=   0.2s\n",
      "[CV 4/5] END alpha=0.1, loss=squared_hinge, penalty=none;, score=0.902 total time=   0.2s\n",
      "[CV 5/5] END alpha=0.1, loss=squared_hinge, penalty=none;, score=0.897 total time=   0.2s\n",
      "[CV 1/5] END alpha=0.1, loss=modified_huber, penalty=l2;, score=0.253 total time=   0.1s\n",
      "[CV 2/5] END alpha=0.1, loss=modified_huber, penalty=l2;, score=0.246 total time=   0.1s\n",
      "[CV 3/5] END alpha=0.1, loss=modified_huber, penalty=l2;, score=0.233 total time=   0.1s\n",
      "[CV 4/5] END alpha=0.1, loss=modified_huber, penalty=l2;, score=0.233 total time=   0.1s\n",
      "[CV 5/5] END alpha=0.1, loss=modified_huber, penalty=l2;, score=0.251 total time=   0.1s\n",
      "[CV 1/5] END alpha=0.1, loss=modified_huber, penalty=l1;, score=0.209 total time=   0.1s\n",
      "[CV 2/5] END alpha=0.1, loss=modified_huber, penalty=l1;, score=0.208 total time=   0.1s\n",
      "[CV 3/5] END alpha=0.1, loss=modified_huber, penalty=l1;, score=0.208 total time=   0.1s\n",
      "[CV 4/5] END alpha=0.1, loss=modified_huber, penalty=l1;, score=0.208 total time=   0.1s\n",
      "[CV 5/5] END alpha=0.1, loss=modified_huber, penalty=l1;, score=0.209 total time=   0.1s\n",
      "[CV 1/5] END alpha=0.1, loss=modified_huber, penalty=none;, score=0.889 total time=   0.2s\n",
      "[CV 2/5] END alpha=0.1, loss=modified_huber, penalty=none;, score=0.899 total time=   0.2s\n",
      "[CV 3/5] END alpha=0.1, loss=modified_huber, penalty=none;, score=0.898 total time=   0.2s\n",
      "[CV 4/5] END alpha=0.1, loss=modified_huber, penalty=none;, score=0.890 total time=   0.2s\n",
      "[CV 5/5] END alpha=0.1, loss=modified_huber, penalty=none;, score=0.896 total time=   0.2s\n"
     ]
    },
    {
     "data": {
      "text/plain": [
       "GridSearchCV(estimator=SGDClassifier(),\n",
       "             param_grid={'alpha': [0.0001, 0.001, 0.01, 0.1],\n",
       "                         'loss': ['hinge', 'log', 'squared_hinge',\n",
       "                                  'modified_huber'],\n",
       "                         'penalty': ['l2', 'l1', 'none']},\n",
       "             scoring='f1_weighted', verbose=3)"
      ]
     },
     "execution_count": 121,
     "metadata": {},
     "output_type": "execute_result"
    }
   ],
   "source": [
    "# SGD TFIDF Unprocessed \n",
    "\n",
    "# defining parameter range\n",
    "param_grid = {\"loss\" : [\"hinge\", \"log\", \"squared_hinge\", \"modified_huber\"], \n",
    "              \"alpha\" : [0.0001, 0.001, 0.01, 0.1],\n",
    "               \"penalty\" : [\"l2\", \"l1\", \"none\"]} \n",
    "  \n",
    "grid = GridSearchCV(SGDClassifier(), param_grid, refit = True, scoring = 'f1_weighted',verbose = 3)\n",
    "  \n",
    "# fitting the model for grid search\n",
    "grid.fit(X_train_t, y_train)\n"
   ]
  },
  {
   "cell_type": "code",
   "execution_count": 122,
   "id": "a90c7a3a-db3b-4bbe-bb3a-93199393fe65",
   "metadata": {},
   "outputs": [
    {
     "name": "stdout",
     "output_type": "stream",
     "text": [
      "{'alpha': 0.0001, 'loss': 'modified_huber', 'penalty': 'l2'}\n",
      "SGDClassifier(loss='modified_huber')\n"
     ]
    }
   ],
   "source": [
    "# print best parameter after tuning\n",
    "print(grid.best_params_)\n",
    "\n",
    "# print how our model looks after hyper-parameter tuning\n",
    "print(grid.best_estimator_)"
   ]
  },
  {
   "cell_type": "code",
   "execution_count": 123,
   "id": "ca2c5106-88df-4494-9056-b77816e3645b",
   "metadata": {},
   "outputs": [
    {
     "name": "stdout",
     "output_type": "stream",
     "text": [
      "0.953936504964909\n"
     ]
    }
   ],
   "source": [
    "# SGD Tuned\n",
    "scores = cross_val_score( SGDClassifier(loss = 'modified_huber',penalty='l2', alpha = 0.0001), X_train_t, y_train, cv=10, scoring='f1_weighted')\n",
    "print(scores.mean())"
   ]
  },
  {
   "cell_type": "code",
   "execution_count": 124,
   "id": "9f00a6c8-7906-4253-9b25-35afd4568563",
   "metadata": {},
   "outputs": [
    {
     "name": "stdout",
     "output_type": "stream",
     "text": [
      "0.9552794511671692\n"
     ]
    }
   ],
   "source": [
    "# Ridge Tuned\n",
    "scores = cross_val_score( RidgeClassifier(alpha = 0.7), X_train_t, y_train, cv=10, scoring='f1_weighted')\n",
    "print(scores.mean())"
   ]
  },
  {
   "cell_type": "markdown",
   "id": "562db0a7-1e60-478a-a341-f12d36b292f9",
   "metadata": {},
   "source": [
    "## Final Comparison on Test Data"
   ]
  },
  {
   "cell_type": "code",
   "execution_count": 125,
   "id": "67748fd3-eb83-45cb-9542-a2c5006084bc",
   "metadata": {},
   "outputs": [],
   "source": [
    "df = pd.read_csv('ecommerceDataset.csv')\n",
    "df.dropna(axis=0, inplace=True)\n",
    "df.drop_duplicates(inplace=True)\n",
    "\n",
    "# Reassign and Split\n",
    "X = df['Description']\n",
    "y = df['Category']\n",
    "X_train, X_test, y_train, y_test = train_test_split(X,y, test_size=0.25, random_state= 42)\n",
    "\n",
    "X_train_t = TfidfVec.fit_transform(X_train)\n",
    "X_test_t = TfidfVec.transform(X_test)"
   ]
  },
  {
   "cell_type": "code",
   "execution_count": 126,
   "id": "a04df048-e703-48be-8648-f9cbfdb02acb",
   "metadata": {},
   "outputs": [
    {
     "name": "stdout",
     "output_type": "stream",
     "text": [
      "                        precision    recall  f1-score   support\n",
      "\n",
      "                 Books       0.97      0.94      0.96      1601\n",
      "Clothing & Accessories       0.97      0.98      0.98      1385\n",
      "           Electronics       0.95      0.95      0.95      1308\n",
      "             Household       0.95      0.97      0.96      2657\n",
      "\n",
      "              accuracy                           0.96      6951\n",
      "             macro avg       0.96      0.96      0.96      6951\n",
      "          weighted avg       0.96      0.96      0.96      6951\n",
      "\n",
      "[[1512   11   21   57]\n",
      " [   4 1357    6   18]\n",
      " [  15    4 1240   49]\n",
      " [  28   23   32 2574]]\n"
     ]
    }
   ],
   "source": [
    "# Final Test on Ridge\n",
    "ridge =  RidgeClassifier(alpha = 0.7)\n",
    "ridge.fit(X_train_t, y_train)\n",
    "#predicted y\n",
    "\n",
    "predictions = ridge.predict(X_test_t)\n",
    "print(metrics.classification_report(y_test, predictions))\n",
    "print(metrics.confusion_matrix(y_test, predictions))"
   ]
  },
  {
   "cell_type": "code",
   "execution_count": 127,
   "id": "247c5b06-a542-48cc-903a-2866a36e60d6",
   "metadata": {},
   "outputs": [
    {
     "name": "stdout",
     "output_type": "stream",
     "text": [
      "                        precision    recall  f1-score   support\n",
      "\n",
      "                 Books       0.97      0.94      0.96      1601\n",
      "Clothing & Accessories       0.97      0.98      0.97      1385\n",
      "           Electronics       0.95      0.94      0.95      1308\n",
      "             Household       0.95      0.97      0.96      2657\n",
      "\n",
      "              accuracy                           0.96      6951\n",
      "             macro avg       0.96      0.96      0.96      6951\n",
      "          weighted avg       0.96      0.96      0.96      6951\n",
      "\n",
      "[[1512   11   24   54]\n",
      " [   6 1357    8   14]\n",
      " [  17    6 1231   54]\n",
      " [  30   28   34 2565]]\n"
     ]
    }
   ],
   "source": [
    "# Final Test on Test Data SGD \n",
    "SGD = SGDClassifier(loss = 'modified_huber',penalty='l2', alpha = 0.0001)\n",
    "SGD.fit(X_train_t, y_train)\n",
    "#predicted y\n",
    "\n",
    "predictions = SGD.predict(X_test_t)\n",
    "print(metrics.classification_report(y_test, predictions))\n",
    "print(metrics.confusion_matrix(y_test, predictions))"
   ]
  },
  {
   "cell_type": "markdown",
   "id": "9870cdb8-e26d-47fd-9785-a0057071fcd4",
   "metadata": {},
   "source": [
    "## The Best model found was a ridge classification model with an alpha of .7"
   ]
  },
  {
   "cell_type": "code",
   "execution_count": null,
   "id": "372af172-cf73-409d-80f7-6e8c4cdd3a2d",
   "metadata": {},
   "outputs": [],
   "source": []
  }
 ],
 "metadata": {
  "kernelspec": {
   "display_name": "Python 3 (ipykernel)",
   "language": "python",
   "name": "python3"
  },
  "language_info": {
   "codemirror_mode": {
    "name": "ipython",
    "version": 3
   },
   "file_extension": ".py",
   "mimetype": "text/x-python",
   "name": "python",
   "nbconvert_exporter": "python",
   "pygments_lexer": "ipython3",
   "version": "3.9.12"
  }
 },
 "nbformat": 4,
 "nbformat_minor": 5
}
